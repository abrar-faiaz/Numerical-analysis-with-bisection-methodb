{
 "cells": [
  {
   "cell_type": "code",
   "execution_count": 1,
   "id": "6306ba05",
   "metadata": {},
   "outputs": [
    {
     "name": "stdout",
     "output_type": "stream",
     "text": [
      "What's the equation you want to solve (input with x): x*(2.718**x)-2\n",
      "What's the tolerance?: 0.0001\n"
     ]
    }
   ],
   "source": [
    "y = input(\"What's the equation you want to solve (input with x): \")\n",
    "t = float(input(\"What's the tolerance?: \"))\n",
    "a = 0\n",
    "b = 0.2"
   ]
  },
  {
   "cell_type": "code",
   "execution_count": 2,
   "id": "bd3daa15",
   "metadata": {},
   "outputs": [],
   "source": [
    "def f(x):\n",
    "    G = eval(y)\n",
    "    return G"
   ]
  },
  {
   "cell_type": "code",
   "execution_count": 3,
   "id": "e8e14b72",
   "metadata": {},
   "outputs": [
    {
     "name": "stdout",
     "output_type": "stream",
     "text": [
      "-2.0\n",
      "-1.7557245139256294\n"
     ]
    }
   ],
   "source": [
    "print(f(a))\n",
    "print(f(b))"
   ]
  },
  {
   "cell_type": "code",
   "execution_count": 4,
   "id": "ca6c6302",
   "metadata": {},
   "outputs": [],
   "source": [
    "while f(a) > 0 or f(b) < 0:\n",
    "    if f(a) < f(a + 0.2):\n",
    "        a = a - 0.2\n",
    "    elif f(a) > f(a + 0.2):\n",
    "        a = a + 0.2\n",
    "    if f(b) < f(b + 0.2):\n",
    "        b = b + 0.2\n",
    "    elif f(b) > f(b + 0.2):\n",
    "        b = b - 0.2"
   ]
  },
  {
   "cell_type": "code",
   "execution_count": 5,
   "id": "ce94237f",
   "metadata": {},
   "outputs": [],
   "source": [
    "while (b - a) >= t:\n",
    "    c = (a + b) / 2\n",
    "    if f(c) > 0:\n",
    "        b = c\n",
    "    if f(c) < 0:\n",
    "        a = c\n"
   ]
  },
  {
   "cell_type": "code",
   "execution_count": 7,
   "id": "6f82b633",
   "metadata": {},
   "outputs": [
    {
     "name": "stdout",
     "output_type": "stream",
     "text": [
      "Solution of the equation is 0.852618408203125\n"
     ]
    }
   ],
   "source": [
    "print(\"Solution of the equation is \" + str(c))"
   ]
  },
  {
   "cell_type": "code",
   "execution_count": null,
   "id": "3413c4d8",
   "metadata": {},
   "outputs": [],
   "source": []
  }
 ],
 "metadata": {
  "kernelspec": {
   "display_name": "Python 3 (ipykernel)",
   "language": "python",
   "name": "python3"
  },
  "language_info": {
   "codemirror_mode": {
    "name": "ipython",
    "version": 3
   },
   "file_extension": ".py",
   "mimetype": "text/x-python",
   "name": "python",
   "nbconvert_exporter": "python",
   "pygments_lexer": "ipython3",
   "version": "3.10.9"
  }
 },
 "nbformat": 4,
 "nbformat_minor": 5
}
